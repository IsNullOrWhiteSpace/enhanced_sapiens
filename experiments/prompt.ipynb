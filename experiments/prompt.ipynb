
{
 "cells": [
  {
   "cell_type": "code",
   "execution_count": 2,
   "metadata": {},
   "outputs": [],
   "source": [
    "import matplotlib.pyplot as plt\n",
    "import numpy as np\n",
    "import pandas as pd\n",
    "import seaborn as sns\n",
    "\n",
    "from matplotlib_inline.backend_inline import set_matplotlib_formats\n",
    "set_matplotlib_formats('svg')\n",
    "\n",
    "# set seaborn theme\n",
    "sns.set_theme()\n",
    "\n",
    "# set seaborn style\n",
    "sns.set_style(\"whitegrid\")\n",
    "\n",
    "# set seaborn palette\n",
    "sns.set_palette(\"tab10\")\n",
    "\n",
    "import glob\n",
    "import json\n",
    "import os\n",
    "\n",
    "import openai"
   ]
  },
  {
   "cell_type": "code",
   "execution_count": 12,
   "metadata": {},
   "outputs": [
    {
     "data": {
      "text/plain": [
       "dict_keys(['trace', 'task', 'config', 'analysis', 'date'])"
      ]
     },
     "execution_count": 12,
     "metadata": {},
     "output_type": "execute_result"
    }
   ],
   "source": [
    "file = \"data/trial_11022888131094356638.json\"\n",
    "# file = \"data/trial_12973281474505735848.json\"\n",
    "\n",
    "with open(file) as f:\n",
    "    trial = json.load(f)\n",
    "trial.keys()"
   ]
  },
  {
   "cell_type": "code",
   "execution_count": 14,
   "metadata": {},
   "outputs": [
    {
     "name": "stdout",
     "output_type": "stream",
     "text": [
      "## Observations:\n",
      "- The user wants a bowl of cereal with milk.\n",
      "- We need to use the Mixing Tool to mix cereal and milk in a bowl.\n",
      "- We need to use the Serving Tool to serve the bowl.\n",
      "- We need to use the Closet Tool to get the bowl, cereal, and milk.\n",
      "## Orientation:\n",
      "- We need to provide the `tool_name` and `parameters` fields for each of the tools.\n",
      "- We need to check the result of each tool for success before proceeding to the next tool.\n",
      "- We need to use the Conclude Tool to terminate the task when we have served the bowl.\n",
      "## Decision:\n",
      "- We will use the Closet Tool to get the bowl, cereal, and milk.\n",
      "- We will use the Mixing Tool to mix the cereal and milk in the bowl.\n",
      "- We will use the Serving Tool to serve the bowl.\n",
      "## The ONLY Action:\n",
      "```yaml\n",
      "tool_name: Closet\n",
      "parameters:\n",
      "  get: Bowl\n",
      "```\n",
      "We will take further action based on the result.\n",
      "=====================================\n",
      "## Observations:\n",
      "- The user wants a bowl of cereal with milk.\n",
      "- We need to use the Mixing Tool to mix cereal and milk in a bowl.\n",
      "- We need to use the Serving Tool to serve the bowl.\n",
      "- We need to use the Closet Tool to get the bowl, cereal, and milk.\n",
      "- The Closet Tool was successful in finding the bowl.\n",
      "## Orientation:\n",
      "- We need to provide the `tool_name` and `parameters` fields for each of the tools.\n",
      "- We need to check the result of each tool for success before proceeding to the next tool.\n",
      "- We need to use the Conclude Tool to terminate the task when we have served the bowl.\n",
      "## Decision:\n",
      "- We will use the Closet Tool to get the cereal and milk.\n",
      "- We will use the Mixing Tool to mix the cereal and milk in the bowl.\n",
      "- We will use the Serving Tool to serve the bowl.\n",
      "## The ONLY Action:\n",
      "```yaml\n",
      "tool_name: Closet\n",
      "parameters:\n",
      "  get: Cereal\n",
      "```\n",
      "We will take further action based on the result.\n",
      "=====================================\n",
      "## Observations:\n",
      "- The user wants a bowl of cereal with milk.\n",
      "- We need to use the Mixing Tool to mix cereal and milk in a bowl.\n",
      "- We need to use the Serving Tool to serve the bowl.\n",
      "- We need to use the Closet Tool to get the bowl, cereal, and milk.\n",
      "- The Closet Tool was successful in finding the bowl, and cereal.\n",
      "## Orientation:\n",
      "- We need to provide the `tool_name` and `parameters` fields for each of the tools.\n",
      "- We need to check the result of each tool for success before proceeding to the next tool.\n",
      "- We need to use the Conclude Tool to terminate the task when we have served the bowl.\n",
      "## Decision:\n",
      "- We will use the Closet Tool to get the milk.\n",
      "- We will use the Mixing Tool to mix the cereal and milk in the bowl.\n",
      "- We will use the Serving Tool to serve the bowl.\n",
      "## The ONLY Action:\n",
      "```yaml\n",
      "tool_name: Closet\n",
      "parameters:\n",
      "  get: Milk\n",
      "```\n",
      "We will take further action based on the result.\n",
      "=====================================\n",
      "## Observations:\n",
      "- The user wants a bowl of cereal with milk.\n",
      "- We need to use the Mixing Tool to mix cereal and milk in a bowl.\n",
      "- We need to use the Serving Tool to serve the bowl.\n",
      "- We need to use the Closet Tool to get the bowl, cereal, and milk.\n",
      "- The Closet Tool was successful in finding the bowl, cereal, and milk.\n",
      "## Orientation:\n",
      "- We need to provide the `tool_name` and `parameters` fields for each of the tools.\n",
      "- We need to check the result of each tool for success before proceeding to the next tool.\n",
      "- We need to use the Conclude Tool to terminate the task when we have served the bowl.\n",
      "## Decision:\n",
      "- We will use the Mixing Tool to mix the cereal and milk in the bowl.\n",
      "- We will use the Serving Tool to serve the bowl.\n",
      "## The ONLY Action:\n",
      "```yaml\n",
      "tool_name: Mixing\n",
      "parameters:\n",
      "  container: Bowl\n",
      "  pourable: Cereal\n",
      "```\n",
      "We will take further action based on the result.\n",
      "=====================================\n",
      "## Observations:\n",
      "- The user wants a bowl of cereal with milk.\n",
      "- We need to use the Mixing Tool to mix cereal and milk in a bowl.\n",
      "- We need to use the Serving Tool to serve the bowl.\n",
      "- We need to use the Closet Tool to get the bowl, cereal, and milk.\n",
      "- The Closet Tool was successful in finding the bowl, cereal, and milk.\n",
      "- The Mixing Tool was successful in adding the cereal to the bowl.\n",
      "## Orientation:\n",
      "- We need to provide the `tool_name` and `parameters` fields for each of the tools.\n",
      "- We need to check the result of each tool for success before proceeding to the next tool.\n",
      "- We need to use the Conclude Tool to terminate the task when we have served the bowl.\n",
      "## Decision:\n",
      "- We will use the Mixing Tool to mix the cereal and milk in the bowl.\n",
      "- We will use the Serving Tool to serve the bowl.\n",
      "## The ONLY Action:\n",
      "```yaml\n",
      "tool_name: Mixing\n",
      "parameters:\n",
      "  container: Bowl\n",
      "  pourable: Milk\n",
      "```\n",
      "We will take further action based on the result.\n",
      "=====================================\n",
      "## Observations:\n",
      "- The user wants a bowl of cereal with milk.\n",
      "- We need to use the Mixing Tool to mix cereal and milk in a bowl.\n",
      "- We need to use the Serving Tool to serve the bowl.\n",
      "- We need to use the Closet Tool to get the bowl, cereal, and milk.\n",
      "- The Closet Tool was successful in finding the bowl, cereal, and milk.\n",
      "- The Mixing Tool was successful in adding the cereal and milk to the bowl.\n",
      "## Orientation:\n",
      "- We need to provide the `tool_name` and `parameters` fields for each of the tools.\n",
      "- We need to check the result of each tool for success before proceeding to the next tool.\n",
      "- We need to use the Conclude Tool to terminate the task when we have served the bowl.\n",
      "## Decision:\n",
      "- We will use the Serving Tool to serve the bowl.\n",
      "## The ONLY Action:\n",
      "```yaml\n",
      "tool_name: Serving\n",
      "parameters:\n",
      "  servable: Bowl\n",
      "```\n",
      "We will take further action based on the result.\n",
      "=====================================\n",
      "## Observations:\n",
      "- The user wants a bowl of cereal with milk.\n",
      "- We have successfully served the bowl.\n",
      "## Orientation:\n",
      "- We need to use the Conclude Tool to terminate the task with a message that the bowl has been served.\n",
      "## Decision:\n",
      "- We will use the Conclude Tool to terminate the task.\n",
      "## The ONLY Action:\n",
      "```yaml\n",
      "tool_name: Conclude\n",
      "parameters:\n",
      "  original_question: |\n",
      "    Make me a bowl of cereal with milk\n",
      "  conclusion: |\n",
      "    The bowl of cereal with milk has been served.\n",
      "```\n",
      "=====================================\n"
     ]
    }
   ],
   "source": [
    "messages = []\n",
    "\n",
    "for e in trial['trace']['events']:    \n",
    "    if e['type'] == 'Message':        \n",
    "        print(e['message']['Action']['content'])        \n",
    "        print(\"=====================================\")    "
   ]
  },
  {
   "cell_type": "code",
   "execution_count": 5,
   "metadata": {},
   "outputs": [],
   "source": [
    "for m in messages:\n",
    "    print(m['role'], m['content'])"
   ]
  },
  {
   "cell_type": "code",
   "execution_count": null,
   "metadata": {},
   "outputs": [],
   "source": [
    "import openai\n",
    "\n",
    "openai.api_base = \"http://hector:8000/v1\"\n",
    "\n",
    "# model = \"vicuna-7b-1.1\"\n",
    "model = \"vicuna-13b-1.1\"\n",
    "# model = \"mpt-7b-chat\"\n",
    "#model = \"dolly-v2-12b\"\n",
    "# model = \"vincua-13b\"\n",
    "\n",
    "\n",
    "res = openai.ChatCompletion.create(\n",
    "    model=model,\n",
    "    messages=messages,\n",
    "    temperature=0.,\n",
    "    max_tokens=4096,\n",
    ")\n",
    "\n",
    "print(res)\n",
    "print(\"------------------\")\n",
    "print(res.choices[0].message.content)"
   ]
  },
  {
   "attachments": {},
   "cell_type": "markdown",
   "metadata": {
    "collapsed": false
   },
   "source": [
    "# GCP"
   ]
  },
  {
   "cell_type": "code",
   "execution_count": null,
   "metadata": {
    "ExecuteTime": {
     "end_time": "2023-05-12T20:58:29.063827Z",
     "start_time": "2023-05-12T20:58:29.060810Z"
    }
   },
   "outputs": [],
   "source": [
    "import vertexai\n",
    "import os\n",
    "from vertexai.preview.language_models import ChatModel, InputOutputTextPair\n",
    "\n",
    "project_id = os.environ[\"GOOGLE_PROJECT_ID\"]\n",
    "location = \"us-central1\"\n",
    "model_name = \"chat-bison@001\"\n",
    "vertexai.init(project=project_id, location=location)\n"
   ]
  },
  {
   "cell_type": "code",
   "execution_count": null,
   "metadata": {
    "ExecuteTime": {
     "end_time": "2023-05-12T20:58:30.429706Z",
     "start_time": "2023-05-12T20:58:30.425655Z"
    }
   },
   "outputs": [],
   "source": [
    "\n",
    "def predict_large_language_model_sample(\n",
    "    temperature: float,\n",
    "    max_output_tokens: int,\n",
    "    top_p: float,\n",
    "    top_k: int,\n",
    "    ) :\n",
    "\n",
    "    chat_model = ChatModel.from_pretrained(model_name)\n",
    "    parameters = {\n",
    "      \"temperature\": temperature,\n",
    "      \"max_output_tokens\": max_output_tokens,\n",
    "      \"top_p\": top_p,\n",
    "      \"top_k\": top_k,\n",
    "    }\n",
    "\n",
    "    chat = chat_model.start_chat(\n",
    "      examples=[]\n",
    "    )\n"
   ]
  },
  {
   "cell_type": "code",
   "execution_count": null,
   "metadata": {
    "ExecuteTime": {
     "end_time": "2023-05-12T21:00:22.000292Z",
     "start_time": "2023-05-12T21:00:21.998024Z"
    }
   },
   "outputs": [],
   "source": [
    "#predict_large_language_model_sample(0.2, 256, 0.8, 40)"
   ]
  },
  {
   "cell_type": "code",
   "execution_count": null,
   "metadata": {},
   "outputs": [],
   "source": []
  }
 ],
 "metadata": {
  "kernelspec": {
   "display_name": "sapiens",
   "language": "python",
   "name": "python3"
  },
  "language_info": {
   "codemirror_mode": {
    "name": "ipython",
    "version": 3
   },
   "file_extension": ".py",
   "mimetype": "text/x-python",
   "name": "python",
   "nbconvert_exporter": "python",
   "pygments_lexer": "ipython3",
   "version": "3.10.10"
  },
  "orig_nbformat": 4
 },
 "nbformat": 4,
 "nbformat_minor": 2
}